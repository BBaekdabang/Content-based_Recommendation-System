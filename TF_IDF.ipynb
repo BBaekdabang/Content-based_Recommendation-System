{
  "nbformat": 4,
  "nbformat_minor": 0,
  "metadata": {
    "colab": {
      "provenance": [],
      "machine_shape": "hm"
    },
    "kernelspec": {
      "name": "python3",
      "display_name": "Python 3"
    },
    "language_info": {
      "name": "python"
    },
    "gpuClass": "standard"
  },
  "cells": [
    {
      "cell_type": "markdown",
      "source": [
        "#prepare"
      ],
      "metadata": {
        "id": "8iKafeKVSXYl"
      }
    },
    {
      "cell_type": "code",
      "source": [
        "from google.colab import drive\n",
        "drive.mount('/content/drive')"
      ],
      "metadata": {
        "colab": {
          "base_uri": "https://localhost:8080/"
        },
        "id": "JrQKplnwV_TY",
        "outputId": "1e0545a0-da00-4615-e533-e1cfc60bf40f"
      },
      "execution_count": null,
      "outputs": [
        {
          "output_type": "stream",
          "name": "stdout",
          "text": [
            "Mounted at /content/drive\n"
          ]
        }
      ]
    },
    {
      "cell_type": "code",
      "execution_count": null,
      "metadata": {
        "id": "5aHaaBWdQbgF"
      },
      "outputs": [],
      "source": [
        "import pandas as pd\n",
        "import numpy as np\n",
        "import matplotlib.pyplot as plt\n",
        "import matplotlib as mpl\n",
        "import seaborn as sns\n",
        "import warnings\n",
        "from sklearn.metrics.pairwise import cosine_similarity\n",
        "from sklearn.metrics.pairwise import euclidean_distances\n",
        "from sklearn.metrics.pairwise import pairwise_distances\n",
        "from sklearn.feature_extraction.text import TfidfVectorizer\n",
        "\n",
        "warnings.filterwarnings(action='ignore')\n",
        "%matplotlib inline"
      ]
    },
    {
      "cell_type": "markdown",
      "source": [
        "#data"
      ],
      "metadata": {
        "id": "ZmxaOf5xQyMZ"
      }
    },
    {
      "cell_type": "code",
      "source": [
        "data = pd.read_csv('./Books.csv', encoding = 'utf-8')"
      ],
      "metadata": {
        "id": "Gy4ee03cQoKf"
      },
      "execution_count": null,
      "outputs": []
    },
    {
      "cell_type": "code",
      "source": [
        "data = data.dropna(subset = ['overview'], axis = 0).reset_index().drop(['index'], axis = 1)"
      ],
      "metadata": {
        "id": "5TTFfWVkWSvZ"
      },
      "execution_count": null,
      "outputs": []
    },
    {
      "cell_type": "markdown",
      "source": [
        "#functions"
      ],
      "metadata": {
        "id": "gw3TGIWFQ-c5"
      }
    },
    {
      "cell_type": "code",
      "source": [
        "id2title = {}\n",
        "title2id =  {}\n",
        "\n",
        "for id, tilte in enumerate(data['title']):\n",
        "  id2title[id] = tilte\n",
        "  title2id[tilte] = id"
      ],
      "metadata": {
        "id": "7W-9TDhX8aj7"
      },
      "execution_count": null,
      "outputs": []
    },
    {
      "cell_type": "code",
      "source": [
        "def get_sim_score(score, idx, top = 10):\n",
        "  score = [(i, c) for i, c in enumerate(score[idx]) if i != idx]\n",
        "  score = sorted(score, key = lambda x: x[1], reverse=True)\n",
        "  score = [(id2title[i], round(score, 2)) for i, score in score[0:top]]\n",
        "  return score"
      ],
      "metadata": {
        "id": "ohQHmkAM8dZ6"
      },
      "execution_count": null,
      "outputs": []
    },
    {
      "cell_type": "code",
      "source": [
        "tfidf = TfidfVectorizer()\n",
        "tfidf_matrix = tfidf.fit_transform(data['overview'])\n",
        "tfidf_matrix.shape"
      ],
      "metadata": {
        "colab": {
          "base_uri": "https://localhost:8080/"
        },
        "id": "XbK-AF6j8kZy",
        "outputId": "0f8c9e8b-782f-46f1-fbe0-96c8d6abd91c"
      },
      "execution_count": null,
      "outputs": [
        {
          "output_type": "execute_result",
          "data": {
            "text/plain": [
              "(21508, 358684)"
            ]
          },
          "metadata": {},
          "execution_count": 32
        }
      ]
    },
    {
      "cell_type": "markdown",
      "source": [
        "#similarity"
      ],
      "metadata": {
        "id": "uIxCKlkNVu81"
      }
    },
    {
      "cell_type": "code",
      "source": [
        "idx = title2id['내가 틀릴 수도 있습니다 - 숲속의 현자가 전하는 마지막 인생 수업']"
      ],
      "metadata": {
        "id": "nvRaU6mA8i2a"
      },
      "execution_count": null,
      "outputs": []
    },
    {
      "cell_type": "code",
      "source": [
        "#코사인 유사도\n",
        "cosine_scores = cosine_similarity(tfidf_matrix, tfidf_matrix)\n",
        "get_sim_score(cosine_scores, idx)"
      ],
      "metadata": {
        "colab": {
          "base_uri": "https://localhost:8080/"
        },
        "id": "Ioqt6Qm-8wSU",
        "outputId": "5a0a66c2-2f64-4a5e-b53b-9b8e6c21cc55"
      },
      "execution_count": null,
      "outputs": [
        {
          "output_type": "execute_result",
          "data": {
            "text/plain": [
              "[('화이트 러시', 0.08),\n",
              " ('세도나 메서드 심플 가이드', 0.07),\n",
              " ('사라진 소녀들의 숲', 0.07),\n",
              " ('모두가 기다리는 사람', 0.07),\n",
              " ('지워진 우리들의 날', 0.07),\n",
              " ('생각이 행동으로 변하는 8가지 방법 - 온은주의 비주얼씽킹', 0.07),\n",
              " ('있으려나 서점', 0.06),\n",
              " ('자각의 연금술', 0.06),\n",
              " ('사랑은 하지 않고 있습니다', 0.06),\n",
              " ('아주 오래된 노래 - 가슴을 울리는 포크 음악 이야기, 제2부', 0.06)]"
            ]
          },
          "metadata": {},
          "execution_count": 37
        }
      ]
    },
    {
      "cell_type": "code",
      "source": [
        "#유클리드 거리\n",
        "euclidean_scores = euclidean_distances(tfidf_matrix, tfidf_matrix)\n",
        "get_sim_score(euclidean_scores, idx)"
      ],
      "metadata": {
        "colab": {
          "base_uri": "https://localhost:8080/"
        },
        "id": "VfVAc1dv81jb",
        "outputId": "3081cc5d-ccb5-4f5c-881e-f42e7bf94c6f"
      },
      "execution_count": null,
      "outputs": [
        {
          "output_type": "execute_result",
          "data": {
            "text/plain": [
              "[('중국시가의 이미지 - 詩歌意象論 ― 의상, 상을 세워 뜻을 표현하다', 1.41),\n",
              " ('일제강점기 일본어 단행본 목록집 - [ 양장 ]', 1.41),\n",
              " ('성스러운 한 끼 - 아라비아의 디저트부터 산사의 국수까지, 맛과 믿음의 음식인문학', 1.41),\n",
              " ('주자학의 형성과 전개 - [ 양장 ]', 1.41),\n",
              " ('강화학파의 양명학', 1.41),\n",
              " ('강화 양명학 연구사 1', 1.41),\n",
              " ('명화로 보는 일리아스 - 그리스 신화의 또 다른 어드벤처!', 1.41),\n",
              " ('신화의 역사', 1.41),\n",
              " ('문화사의 과제 - [ 개정판 ]', 1.41),\n",
              " ('반일 종족주의  - 대한민국 위기의 근원', 1.41)]"
            ]
          },
          "metadata": {},
          "execution_count": 35
        }
      ]
    }
  ]
}