{
  "nbformat": 4,
  "nbformat_minor": 0,
  "metadata": {
    "colab": {
      "provenance": [],
      "machine_shape": "hm"
    },
    "kernelspec": {
      "name": "python3",
      "display_name": "Python 3"
    },
    "language_info": {
      "name": "python"
    },
    "gpuClass": "standard"
  },
  "cells": [
    {
      "cell_type": "markdown",
      "source": [
        "#prepare"
      ],
      "metadata": {
        "id": "8iKafeKVSXYl"
      }
    },
    {
      "cell_type": "code",
      "source": [
        "from google.colab import drive\n",
        "drive.mount('/content/drive')"
      ],
      "metadata": {
        "colab": {
          "base_uri": "https://localhost:8080/"
        },
        "id": "JrQKplnwV_TY",
        "outputId": "caed6e10-1401-4f2e-dac4-5cce8807e3df"
      },
      "execution_count": 1,
      "outputs": [
        {
          "output_type": "stream",
          "name": "stdout",
          "text": [
            "Mounted at /content/drive\n"
          ]
        }
      ]
    },
    {
      "cell_type": "code",
      "execution_count": 2,
      "metadata": {
        "id": "5aHaaBWdQbgF"
      },
      "outputs": [],
      "source": [
        "import pandas as pd\n",
        "import numpy as np\n",
        "import matplotlib.pyplot as plt\n",
        "import matplotlib as mpl\n",
        "import seaborn as sns\n",
        "import warnings\n",
        "from numpy import dot\n",
        "from numpy.linalg import norm\n",
        "\n",
        "from sklearn.metrics.pairwise import cosine_similarity\n",
        "from sklearn.metrics.pairwise import euclidean_distances\n",
        "from sklearn.metrics.pairwise import pairwise_distances\n",
        "\n",
        "warnings.filterwarnings(action='ignore')\n",
        "%matplotlib inline"
      ]
    },
    {
      "cell_type": "markdown",
      "source": [
        "#data"
      ],
      "metadata": {
        "id": "ZmxaOf5xQyMZ"
      }
    },
    {
      "cell_type": "code",
      "source": [
        "data = pd.read_csv('./Books.csv', encoding = 'utf-8')\n",
        "data = data.dropna(subset = ['keyword'], axis = 0).reset_index(drop = True)"
      ],
      "metadata": {
        "id": "Gy4ee03cQoKf"
      },
      "execution_count": 3,
      "outputs": []
    },
    {
      "cell_type": "code",
      "source": [
        "keywords = []\n",
        "for i in range(len(data)) :\n",
        "    keywords.extend(data['keyword'][i].split(' '))\n",
        "keywords = list(set(keywords))"
      ],
      "metadata": {
        "id": "OH5H7tFN5H2e"
      },
      "execution_count": 4,
      "outputs": []
    },
    {
      "cell_type": "markdown",
      "source": [
        "#function"
      ],
      "metadata": {
        "id": "fwm0IskeU5em"
      }
    },
    {
      "cell_type": "code",
      "source": [
        "def get_sim_score(score, idx, top = 10):\n",
        "  score = [(i, c) for i, c in enumerate(score[idx]) if i != idx]\n",
        "  score = sorted(score, key = lambda x: x[1], reverse=True)\n",
        "  score = [(id2title[i], score) for i, score in score[0:top]]\n",
        "  return score"
      ],
      "metadata": {
        "id": "V6mwTFltRS5I"
      },
      "execution_count": 5,
      "outputs": []
    },
    {
      "cell_type": "markdown",
      "source": [
        "#one-hot-encoding"
      ],
      "metadata": {
        "id": "XRsOMKn6TV7P"
      }
    },
    {
      "cell_type": "code",
      "source": [
        "def one_hot(data) :\n",
        "\n",
        "    one_hot = []\n",
        "\n",
        "    for i in range(len(data)) :\n",
        "        tmp = [0] * len(keywords)\n",
        "        tmp_keyword = data['keyword'][i].split(' ')\n",
        "\n",
        "        for j in range(len(tmp_keyword)) :\n",
        "            idx = keywords.index(tmp_keyword[j])\n",
        "            tmp[idx] = 1\n",
        "\n",
        "        one_hot.append(tmp)\n",
        "\n",
        "    return one_hot"
      ],
      "metadata": {
        "id": "vxnJO273oUbS"
      },
      "execution_count": 8,
      "outputs": []
    },
    {
      "cell_type": "code",
      "source": [
        "df = pd.DataFrame(one_hot(data), columns = keywords)"
      ],
      "metadata": {
        "id": "eQTXCQG4xIi4"
      },
      "execution_count": 9,
      "outputs": []
    },
    {
      "cell_type": "code",
      "source": [
        "id2title = {}\n",
        "title2id =  {}\n",
        "\n",
        "for id, tilte in enumerate(data['title']):\n",
        "  id2title[id] = tilte\n",
        "  title2id[tilte] = id"
      ],
      "metadata": {
        "id": "E3AbV3T4RD36"
      },
      "execution_count": 10,
      "outputs": []
    },
    {
      "cell_type": "code",
      "source": [
        "df.iloc[:, :] = df.values.astype(int)\n",
        "df.head()"
      ],
      "metadata": {
        "colab": {
          "base_uri": "https://localhost:8080/",
          "height": 297
        },
        "id": "rqswcJCGxkrO",
        "outputId": "0d9ddf87-d67a-487d-a097-e0e829705842"
      },
      "execution_count": 11,
      "outputs": [
        {
          "output_type": "execute_result",
          "data": {
            "text/plain": [
              "   인생은끝까지모르는거야  IT용어  현실육아  문재인대통령추천  인생선배  N잡  아빠와아들  운동어떻게시작하지?  영어덜트소설  \\\n",
              "0            0     0     0         0     0   0      0           0       0   \n",
              "1            0     0     0         0     0   0      0           0       0   \n",
              "2            0     0     0         0     0   0      0           0       0   \n",
              "3            0     0     0         0     1   0      0           0       0   \n",
              "4            0     0     0         0     0   0      0           0       0   \n",
              "\n",
              "   덕업일치  ...  월드클래스  인문육아  드라마에나온책  해외시집  제주여행  억만장자  주식초보  혼밥족  데이터관리  SNS에세이  \n",
              "0     0  ...      0     0        0     0     0     0     0    0      0       0  \n",
              "1     0  ...      0     0        0     0     0     0     0    0      0       0  \n",
              "2     0  ...      0     0        0     0     0     0     0    0      0       0  \n",
              "3     0  ...      0     0        0     0     0     0     0    0      0       0  \n",
              "4     0  ...      0     0        0     0     0     0     0    0      0       0  \n",
              "\n",
              "[5 rows x 2226 columns]"
            ],
            "text/html": [
              "\n",
              "  <div id=\"df-7feb7a3b-7b2d-4122-b7e8-9e331964ece7\">\n",
              "    <div class=\"colab-df-container\">\n",
              "      <div>\n",
              "<style scoped>\n",
              "    .dataframe tbody tr th:only-of-type {\n",
              "        vertical-align: middle;\n",
              "    }\n",
              "\n",
              "    .dataframe tbody tr th {\n",
              "        vertical-align: top;\n",
              "    }\n",
              "\n",
              "    .dataframe thead th {\n",
              "        text-align: right;\n",
              "    }\n",
              "</style>\n",
              "<table border=\"1\" class=\"dataframe\">\n",
              "  <thead>\n",
              "    <tr style=\"text-align: right;\">\n",
              "      <th></th>\n",
              "      <th>인생은끝까지모르는거야</th>\n",
              "      <th>IT용어</th>\n",
              "      <th>현실육아</th>\n",
              "      <th>문재인대통령추천</th>\n",
              "      <th>인생선배</th>\n",
              "      <th>N잡</th>\n",
              "      <th>아빠와아들</th>\n",
              "      <th>운동어떻게시작하지?</th>\n",
              "      <th>영어덜트소설</th>\n",
              "      <th>덕업일치</th>\n",
              "      <th>...</th>\n",
              "      <th>월드클래스</th>\n",
              "      <th>인문육아</th>\n",
              "      <th>드라마에나온책</th>\n",
              "      <th>해외시집</th>\n",
              "      <th>제주여행</th>\n",
              "      <th>억만장자</th>\n",
              "      <th>주식초보</th>\n",
              "      <th>혼밥족</th>\n",
              "      <th>데이터관리</th>\n",
              "      <th>SNS에세이</th>\n",
              "    </tr>\n",
              "  </thead>\n",
              "  <tbody>\n",
              "    <tr>\n",
              "      <th>0</th>\n",
              "      <td>0</td>\n",
              "      <td>0</td>\n",
              "      <td>0</td>\n",
              "      <td>0</td>\n",
              "      <td>0</td>\n",
              "      <td>0</td>\n",
              "      <td>0</td>\n",
              "      <td>0</td>\n",
              "      <td>0</td>\n",
              "      <td>0</td>\n",
              "      <td>...</td>\n",
              "      <td>0</td>\n",
              "      <td>0</td>\n",
              "      <td>0</td>\n",
              "      <td>0</td>\n",
              "      <td>0</td>\n",
              "      <td>0</td>\n",
              "      <td>0</td>\n",
              "      <td>0</td>\n",
              "      <td>0</td>\n",
              "      <td>0</td>\n",
              "    </tr>\n",
              "    <tr>\n",
              "      <th>1</th>\n",
              "      <td>0</td>\n",
              "      <td>0</td>\n",
              "      <td>0</td>\n",
              "      <td>0</td>\n",
              "      <td>0</td>\n",
              "      <td>0</td>\n",
              "      <td>0</td>\n",
              "      <td>0</td>\n",
              "      <td>0</td>\n",
              "      <td>0</td>\n",
              "      <td>...</td>\n",
              "      <td>0</td>\n",
              "      <td>0</td>\n",
              "      <td>0</td>\n",
              "      <td>0</td>\n",
              "      <td>0</td>\n",
              "      <td>0</td>\n",
              "      <td>0</td>\n",
              "      <td>0</td>\n",
              "      <td>0</td>\n",
              "      <td>0</td>\n",
              "    </tr>\n",
              "    <tr>\n",
              "      <th>2</th>\n",
              "      <td>0</td>\n",
              "      <td>0</td>\n",
              "      <td>0</td>\n",
              "      <td>0</td>\n",
              "      <td>0</td>\n",
              "      <td>0</td>\n",
              "      <td>0</td>\n",
              "      <td>0</td>\n",
              "      <td>0</td>\n",
              "      <td>0</td>\n",
              "      <td>...</td>\n",
              "      <td>0</td>\n",
              "      <td>0</td>\n",
              "      <td>0</td>\n",
              "      <td>0</td>\n",
              "      <td>0</td>\n",
              "      <td>0</td>\n",
              "      <td>0</td>\n",
              "      <td>0</td>\n",
              "      <td>0</td>\n",
              "      <td>0</td>\n",
              "    </tr>\n",
              "    <tr>\n",
              "      <th>3</th>\n",
              "      <td>0</td>\n",
              "      <td>0</td>\n",
              "      <td>0</td>\n",
              "      <td>0</td>\n",
              "      <td>1</td>\n",
              "      <td>0</td>\n",
              "      <td>0</td>\n",
              "      <td>0</td>\n",
              "      <td>0</td>\n",
              "      <td>0</td>\n",
              "      <td>...</td>\n",
              "      <td>0</td>\n",
              "      <td>0</td>\n",
              "      <td>0</td>\n",
              "      <td>0</td>\n",
              "      <td>0</td>\n",
              "      <td>0</td>\n",
              "      <td>0</td>\n",
              "      <td>0</td>\n",
              "      <td>0</td>\n",
              "      <td>0</td>\n",
              "    </tr>\n",
              "    <tr>\n",
              "      <th>4</th>\n",
              "      <td>0</td>\n",
              "      <td>0</td>\n",
              "      <td>0</td>\n",
              "      <td>0</td>\n",
              "      <td>0</td>\n",
              "      <td>0</td>\n",
              "      <td>0</td>\n",
              "      <td>0</td>\n",
              "      <td>0</td>\n",
              "      <td>0</td>\n",
              "      <td>...</td>\n",
              "      <td>0</td>\n",
              "      <td>0</td>\n",
              "      <td>0</td>\n",
              "      <td>0</td>\n",
              "      <td>0</td>\n",
              "      <td>0</td>\n",
              "      <td>0</td>\n",
              "      <td>0</td>\n",
              "      <td>0</td>\n",
              "      <td>0</td>\n",
              "    </tr>\n",
              "  </tbody>\n",
              "</table>\n",
              "<p>5 rows × 2226 columns</p>\n",
              "</div>\n",
              "      <button class=\"colab-df-convert\" onclick=\"convertToInteractive('df-7feb7a3b-7b2d-4122-b7e8-9e331964ece7')\"\n",
              "              title=\"Convert this dataframe to an interactive table.\"\n",
              "              style=\"display:none;\">\n",
              "        \n",
              "  <svg xmlns=\"http://www.w3.org/2000/svg\" height=\"24px\"viewBox=\"0 0 24 24\"\n",
              "       width=\"24px\">\n",
              "    <path d=\"M0 0h24v24H0V0z\" fill=\"none\"/>\n",
              "    <path d=\"M18.56 5.44l.94 2.06.94-2.06 2.06-.94-2.06-.94-.94-2.06-.94 2.06-2.06.94zm-11 1L8.5 8.5l.94-2.06 2.06-.94-2.06-.94L8.5 2.5l-.94 2.06-2.06.94zm10 10l.94 2.06.94-2.06 2.06-.94-2.06-.94-.94-2.06-.94 2.06-2.06.94z\"/><path d=\"M17.41 7.96l-1.37-1.37c-.4-.4-.92-.59-1.43-.59-.52 0-1.04.2-1.43.59L10.3 9.45l-7.72 7.72c-.78.78-.78 2.05 0 2.83L4 21.41c.39.39.9.59 1.41.59.51 0 1.02-.2 1.41-.59l7.78-7.78 2.81-2.81c.8-.78.8-2.07 0-2.86zM5.41 20L4 18.59l7.72-7.72 1.47 1.35L5.41 20z\"/>\n",
              "  </svg>\n",
              "      </button>\n",
              "      \n",
              "  <style>\n",
              "    .colab-df-container {\n",
              "      display:flex;\n",
              "      flex-wrap:wrap;\n",
              "      gap: 12px;\n",
              "    }\n",
              "\n",
              "    .colab-df-convert {\n",
              "      background-color: #E8F0FE;\n",
              "      border: none;\n",
              "      border-radius: 50%;\n",
              "      cursor: pointer;\n",
              "      display: none;\n",
              "      fill: #1967D2;\n",
              "      height: 32px;\n",
              "      padding: 0 0 0 0;\n",
              "      width: 32px;\n",
              "    }\n",
              "\n",
              "    .colab-df-convert:hover {\n",
              "      background-color: #E2EBFA;\n",
              "      box-shadow: 0px 1px 2px rgba(60, 64, 67, 0.3), 0px 1px 3px 1px rgba(60, 64, 67, 0.15);\n",
              "      fill: #174EA6;\n",
              "    }\n",
              "\n",
              "    [theme=dark] .colab-df-convert {\n",
              "      background-color: #3B4455;\n",
              "      fill: #D2E3FC;\n",
              "    }\n",
              "\n",
              "    [theme=dark] .colab-df-convert:hover {\n",
              "      background-color: #434B5C;\n",
              "      box-shadow: 0px 1px 3px 1px rgba(0, 0, 0, 0.15);\n",
              "      filter: drop-shadow(0px 1px 2px rgba(0, 0, 0, 0.3));\n",
              "      fill: #FFFFFF;\n",
              "    }\n",
              "  </style>\n",
              "\n",
              "      <script>\n",
              "        const buttonEl =\n",
              "          document.querySelector('#df-7feb7a3b-7b2d-4122-b7e8-9e331964ece7 button.colab-df-convert');\n",
              "        buttonEl.style.display =\n",
              "          google.colab.kernel.accessAllowed ? 'block' : 'none';\n",
              "\n",
              "        async function convertToInteractive(key) {\n",
              "          const element = document.querySelector('#df-7feb7a3b-7b2d-4122-b7e8-9e331964ece7');\n",
              "          const dataTable =\n",
              "            await google.colab.kernel.invokeFunction('convertToInteractive',\n",
              "                                                     [key], {});\n",
              "          if (!dataTable) return;\n",
              "\n",
              "          const docLinkHtml = 'Like what you see? Visit the ' +\n",
              "            '<a target=\"_blank\" href=https://colab.research.google.com/notebooks/data_table.ipynb>data table notebook</a>'\n",
              "            + ' to learn more about interactive tables.';\n",
              "          element.innerHTML = '';\n",
              "          dataTable['output_type'] = 'display_data';\n",
              "          await google.colab.output.renderOutput(dataTable, element);\n",
              "          const docLink = document.createElement('div');\n",
              "          docLink.innerHTML = docLinkHtml;\n",
              "          element.appendChild(docLink);\n",
              "        }\n",
              "      </script>\n",
              "    </div>\n",
              "  </div>\n",
              "  "
            ]
          },
          "metadata": {},
          "execution_count": 11
        }
      ]
    },
    {
      "cell_type": "markdown",
      "source": [
        "#similarity"
      ],
      "metadata": {
        "id": "jkkGAMFPTiFp"
      }
    },
    {
      "cell_type": "code",
      "source": [
        "idx = title2id['내가 틀릴 수도 있습니다 - 숲속의 현자가 전하는 마지막 인생 수업']"
      ],
      "metadata": {
        "id": "K0JP6jKoRWCf"
      },
      "execution_count": 12,
      "outputs": []
    },
    {
      "cell_type": "code",
      "source": [
        "# 내적\n",
        "dot_scores = np.dot(df.values, df.values.T)\n",
        "get_sim_score(dot_scores, idx)"
      ],
      "metadata": {
        "id": "HJGSRM7MRZaI",
        "colab": {
          "base_uri": "https://localhost:8080/"
        },
        "outputId": "22c783c9-a1ee-43e5-a1f2-a1522bdeed76"
      },
      "execution_count": 13,
      "outputs": [
        {
          "output_type": "execute_result",
          "data": {
            "text/plain": [
              "[('어른의 어휘력 - 말에 품격을 더하고 세상을 올바르게 이해하는 힘', 2),\n",
              " ('나는 나무처럼 살고 싶다 - 30년간 아픈 나무들을 돌봐 온 나무 의사 우종영이 나무에게 배운 단단한 삶의 지혜 35', 2),\n",
              " ('반야심경 마음공부 - [ 개정판 ]', 2),\n",
              " ('어른의 문해력 - 나도 쓱 읽고 싹 이해하면 바랄 게 없겠네', 2),\n",
              " ('라틴어 수업 - 지적이고 아름다운 삶을 위한', 2),\n",
              " ('유럽 도시 기행 1 - 아테네, 로마, 이스탄불, 파리 편', 2),\n",
              " ('마음의 법칙 - 사람의 마음을 사로잡는 51가지 심리학', 2),\n",
              " ('빅터 프랭클의 죽음의 수용소에서 - 죽음조차 희망으로 승화시킨 인간 존엄성의 승리', 2),\n",
              " ('서른살이 심리학에게 묻다 - 대한민국 30대를 위한 심리치유 카페', 2),\n",
              " ('거꾸로 읽는 세계사 - [ 전면개정판 ]', 2)]"
            ]
          },
          "metadata": {},
          "execution_count": 13
        }
      ]
    },
    {
      "cell_type": "code",
      "source": [
        "# 피어슨 유사도\n",
        "pearson_scores = df.T.corr().values\n",
        "get_sim_score(pearson_scores, idx)"
      ],
      "metadata": {
        "id": "87HvJOgHRbp4",
        "colab": {
          "base_uri": "https://localhost:8080/"
        },
        "outputId": "f341568a-51db-4472-9d2d-8cb60fe8115c"
      },
      "execution_count": 14,
      "outputs": [
        {
          "output_type": "execute_result",
          "data": {
            "text/plain": [
              "[('서른살이 심리학에게 묻다 - 대한민국 30대를 위한 심리치유 카페', 0.5768308356439008),\n",
              " ('스눕 - 상대를 꿰뚫어보는 힘', 0.5768308356439008),\n",
              " ('백설공주에게 죽음을', 0.5768308356439008),\n",
              " ('온전히 나답게- 인생은 느슨하게 매일은 성실하게 ', 0.4704497235365045),\n",
              " ('다산선생 지식경영법 - [ 양장 ]', 0.40778932652959554),\n",
              " ('미쳐야 미친다 - 조선 지식인의 내면 읽기', 0.40778932652959554),\n",
              " ('십자군 이야기 1', 0.40778932652959554),\n",
              " ('노인이 되지 않는 법', 0.40778932652959554),\n",
              " ('청소부 밥', 0.40778932652959554),\n",
              " ('끌리는 사람은 1%가 다르다', 0.40778932652959554)]"
            ]
          },
          "metadata": {},
          "execution_count": 14
        }
      ]
    },
    {
      "cell_type": "code",
      "source": [
        "# 코사인 유사도\n",
        "cosine_scores = cosine_similarity(df, df)\n",
        "get_sim_score(cosine_scores, idx)"
      ],
      "metadata": {
        "id": "Bb31ItTCRefV",
        "colab": {
          "base_uri": "https://localhost:8080/"
        },
        "outputId": "735df1cf-aa39-41cf-987e-55815d33fbb6"
      },
      "execution_count": 15,
      "outputs": [
        {
          "output_type": "execute_result",
          "data": {
            "text/plain": [
              "[('서른살이 심리학에게 묻다 - 대한민국 30대를 위한 심리치유 카페', 0.5773502691896258),\n",
              " ('스눕 - 상대를 꿰뚫어보는 힘', 0.5773502691896258),\n",
              " ('백설공주에게 죽음을', 0.5773502691896258),\n",
              " ('온전히 나답게- 인생은 느슨하게 매일은 성실하게 ', 0.4714045207910318),\n",
              " ('몰입의 즐거움 - [ 양장 ]', 0.4082482904638631),\n",
              " ('100만 클릭을 부르는 글쓰기 - 블로그, 포스트, SNS, 유튜브… 바로 써먹는 글쓰기 디테일', 0.4082482904638631),\n",
              " ('행복의 조건 - 하버드대학교·인간성장보고서', 0.4082482904638631),\n",
              " ('니코마코스 윤리학', 0.4082482904638631),\n",
              " ('법화경 마음공부 - 인생이 한결 홀가분해지는', 0.4082482904638631),\n",
              " ('30개 도시로 읽는 일본사 - 익숙하고 낯선 도시가 들려주는 일본의 진짜 역사 이야기', 0.4082482904638631)]"
            ]
          },
          "metadata": {},
          "execution_count": 15
        }
      ]
    },
    {
      "cell_type": "code",
      "source": [
        "# 유클리드 거리\n",
        "euclidean_scores = euclidean_distances(df, df)\n",
        "get_sim_score(euclidean_scores, idx)"
      ],
      "metadata": {
        "id": "7Af0S2AWRg3_",
        "colab": {
          "base_uri": "https://localhost:8080/"
        },
        "outputId": "6862a788-17ad-4f2e-9605-4ff67879d458"
      },
      "execution_count": 16,
      "outputs": [
        {
          "output_type": "execute_result",
          "data": {
            "text/plain": [
              "[('소년이 온다', 4.898979485566356),\n",
              " ('사피엔스 - 유인원에서 사이보그까지, 인간 역사의 대담하고 위대한 질문', 4.795831523312719),\n",
              " ('시선으로부터,', 4.69041575982343),\n",
              " ('우리가 빛의 속도로 갈 수 없다면', 4.58257569495584),\n",
              " ('아몬드', 4.58257569495584),\n",
              " ('나미야 잡화점의 기적', 4.58257569495584),\n",
              " ('여자 둘이 살고 있습니다', 4.58257569495584),\n",
              " ('천 개의 파랑', 4.47213595499958),\n",
              " ('데미안', 4.47213595499958),\n",
              " ('82년생 김지영', 4.47213595499958)]"
            ]
          },
          "metadata": {},
          "execution_count": 16
        }
      ]
    },
    {
      "cell_type": "code",
      "source": [
        "# 자카르도 거리\n",
        "pairwise_scores = pairwise_distances(df.values, metric='jaccard')\n",
        "get_sim_score(pairwise_scores, idx)"
      ],
      "metadata": {
        "id": "hXXywYT8RjR6",
        "colab": {
          "base_uri": "https://localhost:8080/"
        },
        "outputId": "4a408c62-c390-4243-b2c1-e4bbb6a4defd"
      },
      "execution_count": 17,
      "outputs": [
        {
          "output_type": "execute_result",
          "data": {
            "text/plain": [
              "[('당신도 느리게 나이 들 수 있습니다 - 나이가 들어도 몸의 시간은 젊게', 1.0),\n",
              " ('빅 히스토리 - 우주와 지구, 인간을 하나로 잇는 새로운 역사', 1.0),\n",
              " ('여덟 단어 - 인생을 대하는 우리의 자세', 1.0),\n",
              " ('인생의 허무를 어떻게 할 것인가', 1.0),\n",
              " ('아비투스 - 인간의 품격을 결정하는 7가지 자본', 1.0),\n",
              " ('사피엔스 - [ 양장 ]', 1.0),\n",
              " ('뉴욕 정신과 의사의 사람 도서관 - 낙인과 혐오를 넘어 이해와 공존으로', 1.0),\n",
              " ('블루프린트 - 이기적 인간은 어떻게 좋은 사회를 만드는가', 1.0),\n",
              " ('어른의 중력  - 생의 1/4 승강장에 도착한 어린 어른을 위한 심리학', 1.0),\n",
              " ('차이에 관한 생각 - 영장류학자의 눈으로 본 젠더', 1.0)]"
            ]
          },
          "metadata": {},
          "execution_count": 17
        }
      ]
    },
    {
      "cell_type": "code",
      "source": [],
      "metadata": {
        "id": "3ZK92y6h0jsh"
      },
      "execution_count": null,
      "outputs": []
    }
  ]
}