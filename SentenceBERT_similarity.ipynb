{
  "nbformat": 4,
  "nbformat_minor": 0,
  "metadata": {
    "colab": {
      "provenance": [],
      "machine_shape": "hm"
    },
    "kernelspec": {
      "name": "python3",
      "display_name": "Python 3"
    },
    "language_info": {
      "name": "python"
    },
    "gpuClass": "premium",
    "accelerator": "GPU"
  },
  "cells": [
    {
      "cell_type": "code",
      "source": [
        "from google.colab import drive\n",
        "drive.mount('/content/drive')"
      ],
      "metadata": {
        "colab": {
          "base_uri": "https://localhost:8080/"
        },
        "id": "Aapv9GIwsiqh",
        "outputId": "ee4638a9-c372-4296-a6ce-2f2366fdcd27"
      },
      "execution_count": null,
      "outputs": [
        {
          "output_type": "stream",
          "name": "stdout",
          "text": [
            "Mounted at /content/drive\n"
          ]
        }
      ]
    },
    {
      "cell_type": "code",
      "source": [
        "%%capture\n",
        "! pip install transformers"
      ],
      "metadata": {
        "id": "vl28U0pCskQu"
      },
      "execution_count": null,
      "outputs": []
    },
    {
      "cell_type": "code",
      "source": [
        "import torch\n",
        "from transformers import AutoModel, AutoTokenizer\n",
        "import pandas as pd\n",
        "import numpy as np"
      ],
      "metadata": {
        "id": "JAkSwp3jsrWG"
      },
      "execution_count": null,
      "outputs": []
    },
    {
      "cell_type": "code",
      "source": [
        "def score(a, b):\n",
        "    if len(a.shape) == 1: a = a.unsqueeze(0)\n",
        "    if len(b.shape) == 1: b = b.unsqueeze(0)\n",
        "\n",
        "    a_norm = a / a.norm(dim=1)[:, None]\n",
        "    b_norm = b / b.norm(dim=1)[:, None]\n",
        "    return torch.mm(a_norm, b_norm.transpose(0, 1)) * 100"
      ],
      "metadata": {
        "id": "b0JaA4TNsuKX"
      },
      "execution_count": null,
      "outputs": []
    },
    {
      "cell_type": "code",
      "source": [
        "model = AutoModel.from_pretrained('BM-K/KoSimCSE-bert-multitask')  \n",
        "tokenizer = AutoTokenizer.from_pretrained('BM-K/KoSimCSE-bert-multitask')  "
      ],
      "metadata": {
        "id": "0_IXWPMpsw_3"
      },
      "execution_count": null,
      "outputs": []
    },
    {
      "cell_type": "code",
      "source": [
        "data = pd.read_csv('./Books.csv', encoding = 'utf-8')[:20]"
      ],
      "metadata": {
        "id": "2IJfKaHzvoKd"
      },
      "execution_count": null,
      "outputs": []
    },
    {
      "cell_type": "code",
      "source": [
        "dic = {'title':[], 'similarity':[]}\n",
        "sentences = []\n",
        "\n",
        "for i in range(len(data)) :\n",
        "    sentences.append(data['overview'][i])\n",
        "\n",
        "for i in range(len(data)) :\n",
        "    if i % 10 == 0 :\n",
        "        print(i, '/', len(data))\n",
        "    try : \n",
        "        tmp = []\n",
        "        tmp_sentence = [sentences[i]]\n",
        "\n",
        "        for j in range(len(sentences)) :\n",
        "            if i != j :\n",
        "                tmp_sentence.append(sentences[j])\n",
        "\n",
        "                inputs = tokenizer(tmp_sentence, padding = True, truncation = True, return_tensors = 'pt')\n",
        "                embeddings, _ = model(**inputs, return_dict = False)\n",
        "\n",
        "                score = score(embeddings[0][0], embeddings[1][0])[0][0].item()\n",
        "                tmp.append(score)\n",
        "\n",
        "        dic['title'].append(data['title'][i])\n",
        "        dic['similarity'].append(np.mean(tmp))\n",
        "    \n",
        "    except :\n",
        "        print(i, j)\n",
        "\n",
        "pd.DataFrame(dic)"
      ],
      "metadata": {
        "id": "4Rzuo9056Eq-"
      },
      "execution_count": null,
      "outputs": []
    },
    {
      "cell_type": "code",
      "source": [],
      "metadata": {
        "id": "8z4vK5-Nfv26"
      },
      "execution_count": null,
      "outputs": []
    }
  ]
}